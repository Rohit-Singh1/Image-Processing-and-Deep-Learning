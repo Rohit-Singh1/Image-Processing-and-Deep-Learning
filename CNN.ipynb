{
  "nbformat": 4,
  "nbformat_minor": 0,
  "metadata": {
    "colab": {
      "name": "CNN.ipynb",
      "provenance": [],
      "collapsed_sections": []
    },
    "kernelspec": {
      "name": "python3",
      "display_name": "Python 3"
    },
    "language_info": {
      "name": "python"
    }
  },
  "cells": [
    {
      "cell_type": "code",
      "metadata": {
        "id": "IYNT5Vye9GFv"
      },
      "source": [
        "# CNN from scratch"
      ],
      "execution_count": 1,
      "outputs": []
    },
    {
      "cell_type": "code",
      "metadata": {
        "id": "MP8moWZ3lk2S"
      },
      "source": [
        "import numpy as np\n",
        "import pandas as pd\n",
        "from tqdm import tqdm\n",
        "from keras.datasets import mnist"
      ],
      "execution_count": 2,
      "outputs": []
    },
    {
      "cell_type": "code",
      "metadata": {
        "id": "RXrkw7sDLZtN"
      },
      "source": [
        "(X_train,y_train),(X_test,y_test) = mnist.load_data()"
      ],
      "execution_count": 3,
      "outputs": []
    },
    {
      "cell_type": "code",
      "metadata": {
        "colab": {
          "base_uri": "https://localhost:8080/"
        },
        "id": "gMU3MJJ5LkvG",
        "outputId": "24e2aedf-a97a-45db-a186-8c04fed46569"
      },
      "source": [
        "X_train.shape,y_train.shape"
      ],
      "execution_count": 4,
      "outputs": [
        {
          "output_type": "execute_result",
          "data": {
            "text/plain": [
              "((60000, 28, 28), (60000,))"
            ]
          },
          "metadata": {},
          "execution_count": 4
        }
      ]
    },
    {
      "cell_type": "code",
      "metadata": {
        "id": "hmS39TP2L3md"
      },
      "source": [
        "X_train = X_train[:200]"
      ],
      "execution_count": 5,
      "outputs": []
    },
    {
      "cell_type": "code",
      "metadata": {
        "id": "4ZhunTH7L_Ij"
      },
      "source": [
        "y_train = y_train[:200]"
      ],
      "execution_count": 6,
      "outputs": []
    },
    {
      "cell_type": "code",
      "metadata": {
        "id": "WRikOGdBMWVu"
      },
      "source": [
        "X_train = X_train.T\n",
        "y_train.resize((1,200))"
      ],
      "execution_count": 7,
      "outputs": []
    },
    {
      "cell_type": "code",
      "metadata": {
        "colab": {
          "base_uri": "https://localhost:8080/"
        },
        "id": "jBVhmOXMMe3K",
        "outputId": "87662f00-6169-4cce-ca29-1b46eb14dd1e"
      },
      "source": [
        "y_train.shape"
      ],
      "execution_count": 8,
      "outputs": [
        {
          "output_type": "execute_result",
          "data": {
            "text/plain": [
              "(1, 200)"
            ]
          },
          "metadata": {},
          "execution_count": 8
        }
      ]
    },
    {
      "cell_type": "code",
      "metadata": {
        "colab": {
          "base_uri": "https://localhost:8080/"
        },
        "id": "f1tOlFzWNP3K",
        "outputId": "f36fe30e-7f9c-4f3a-da41-c800c66d243f"
      },
      "source": [
        "# Checking all unique values\n",
        "pd.Series(y_train[0,:]).value_counts()"
      ],
      "execution_count": 9,
      "outputs": [
        {
          "output_type": "execute_result",
          "data": {
            "text/plain": [
              "1    26\n",
              "9    23\n",
              "7    21\n",
              "4    21\n",
              "3    21\n",
              "0    21\n",
              "2    20\n",
              "6    19\n",
              "8    15\n",
              "5    13\n",
              "dtype: int64"
            ]
          },
          "metadata": {},
          "execution_count": 9
        }
      ]
    },
    {
      "cell_type": "code",
      "metadata": {
        "colab": {
          "base_uri": "https://localhost:8080/"
        },
        "id": "i5YN2i-dN4aR",
        "outputId": "0b4a6f41-ba8d-49d6-b641-8e54c73c7d5b"
      },
      "source": [
        "# Converting the problem to binary classification\n",
        "for i in range(y_train.shape[1]):\n",
        "  y_train[0,i] = y_train[0,i]>4\n",
        "\n",
        "pd.Series(y_train[0]).value_counts()"
      ],
      "execution_count": 10,
      "outputs": [
        {
          "output_type": "execute_result",
          "data": {
            "text/plain": [
              "0    109\n",
              "1     91\n",
              "dtype: int64"
            ]
          },
          "metadata": {},
          "execution_count": 10
        }
      ]
    },
    {
      "cell_type": "code",
      "metadata": {
        "id": "bvRFzGJXPskb"
      },
      "source": [
        "# Initializing filters\n",
        "filter = np.random.uniform(size=(3,5,5))\n"
      ],
      "execution_count": 11,
      "outputs": []
    },
    {
      "cell_type": "code",
      "metadata": {
        "id": "nGo7qojqQhw5"
      },
      "source": [
        "filter = filter.T"
      ],
      "execution_count": 12,
      "outputs": []
    },
    {
      "cell_type": "code",
      "metadata": {
        "colab": {
          "base_uri": "https://localhost:8080/"
        },
        "id": "qanogmXSQjET",
        "outputId": "a1de0a4d-b248-43c8-9b62-1668e7a0a5cf"
      },
      "source": [
        "X_train.shape,y_train.shape,filter.shape"
      ],
      "execution_count": 13,
      "outputs": [
        {
          "output_type": "execute_result",
          "data": {
            "text/plain": [
              "((28, 28, 200), (1, 200), (5, 5, 3))"
            ]
          },
          "metadata": {},
          "execution_count": 13
        }
      ]
    },
    {
      "cell_type": "code",
      "metadata": {
        "id": "WimbcsYrQ7R9"
      },
      "source": [
        "\n",
        "def convolution(filter,X): #X is one image  #stride= 1 and no zero-padding\n",
        "  conv_Image=[]\n",
        "  xdim,ydim = filter.shape\n",
        "  for k in range(X.shape[2]):\n",
        "    new_Image=[]\n",
        "\n",
        "    for i in range(X.shape[0]-xdim+1):\n",
        "      val = []\n",
        "\n",
        "      for j in range(X.shape[1]-ydim+1):\n",
        "        a = np.sum(X[i:i+xdim,j:j+ydim,k]*filter)\n",
        "        val.append(a)\n",
        "\n",
        "      new_Image.append(val)\n",
        "    conv_Image.append(new_Image)\n",
        "\n",
        "  return np.array(conv_Image)"
      ],
      "execution_count": 14,
      "outputs": []
    },
    {
      "cell_type": "code",
      "metadata": {
        "id": "To7scy3RMV_N"
      },
      "source": [
        "f = np.array([[1,0,1],[0,1,0],[1,0,1]])"
      ],
      "execution_count": 15,
      "outputs": []
    },
    {
      "cell_type": "code",
      "metadata": {
        "id": "DfPJ8vqtPib1"
      },
      "source": [
        "res=np.array(convolution(f,X_train))"
      ],
      "execution_count": 16,
      "outputs": []
    },
    {
      "cell_type": "code",
      "metadata": {
        "id": "XkP0sOvkPk8m"
      },
      "source": [
        "res = res.T"
      ],
      "execution_count": 17,
      "outputs": []
    },
    {
      "cell_type": "code",
      "metadata": {
        "colab": {
          "base_uri": "https://localhost:8080/"
        },
        "id": "EIjg_0kzUhMq",
        "outputId": "48c0dfbd-dbf3-4b73-a130-5b56c6c9b544"
      },
      "source": [
        "res.shape"
      ],
      "execution_count": 18,
      "outputs": [
        {
          "output_type": "execute_result",
          "data": {
            "text/plain": [
              "(26, 26, 200)"
            ]
          },
          "metadata": {},
          "execution_count": 18
        }
      ]
    },
    {
      "cell_type": "code",
      "metadata": {
        "id": "H1DKQv-YSEzr"
      },
      "source": [
        "def convolution3D(filter,X_train):\n",
        "  convRes = []\n",
        "  for i in range(filter.shape[2]):\n",
        "    f = filter[:,:,0].reshape((filter.shape[0],filter.shape[1]))\n",
        "    convRes.append(convolution(f,X_train))\n",
        "  convRes=np.array(convRes)\n",
        "  convRes = np.moveaxis(np.moveaxis(convRes,0,-1),0,-1)\n",
        "  return convRes"
      ],
      "execution_count": 19,
      "outputs": []
    },
    {
      "cell_type": "code",
      "metadata": {
        "id": "WurS2Tvg4eYb"
      },
      "source": [
        ""
      ],
      "execution_count": 19,
      "outputs": []
    },
    {
      "cell_type": "code",
      "metadata": {
        "id": "lSTjktRuZwxL"
      },
      "source": [
        "convRes = convolution3D(filter,X_train)"
      ],
      "execution_count": 20,
      "outputs": []
    },
    {
      "cell_type": "code",
      "metadata": {
        "colab": {
          "base_uri": "https://localhost:8080/"
        },
        "id": "iAk_QXGKYAI5",
        "outputId": "d39ac34f-6196-4b53-f52c-8f386be1d062"
      },
      "source": [
        "convRes.shape"
      ],
      "execution_count": 21,
      "outputs": [
        {
          "output_type": "execute_result",
          "data": {
            "text/plain": [
              "(24, 24, 3, 200)"
            ]
          },
          "metadata": {},
          "execution_count": 21
        }
      ]
    },
    {
      "cell_type": "code",
      "metadata": {
        "id": "DUfTvuWxcEB0"
      },
      "source": [
        "def sigmoid(x): #activation function\n",
        "  return 1/(1+np.exp(-x))\n",
        "\n",
        "def sigmoidDerivative(x):\n",
        "  return sigmoid(x)*(1-sigmoid(x))"
      ],
      "execution_count": 22,
      "outputs": []
    },
    {
      "cell_type": "code",
      "metadata": {
        "id": "Yhl5hM2wdadX"
      },
      "source": [
        "convRes = convolution3D(filter,X_train) "
      ],
      "execution_count": 23,
      "outputs": []
    },
    {
      "cell_type": "code",
      "metadata": {
        "id": "1xz4fB0Xz2Tt",
        "outputId": "0ecbbe1f-d00a-4d80-f1c0-46515adfc75a",
        "colab": {
          "base_uri": "https://localhost:8080/"
        }
      },
      "source": [
        "convRes.shape"
      ],
      "execution_count": 24,
      "outputs": [
        {
          "output_type": "execute_result",
          "data": {
            "text/plain": [
              "(24, 24, 3, 200)"
            ]
          },
          "metadata": {},
          "execution_count": 24
        }
      ]
    },
    {
      "cell_type": "code",
      "metadata": {
        "id": "-NB9E6LR4xOE"
      },
      "source": [
        "finalConvRes = []\n",
        "for i in range(convRes.shape[3]):\n",
        "  output = convRes[:,:,:,i]\n",
        "  out = []\n",
        "  for j in range(output.shape[2]):\n",
        "    out.append(output[:,:,j].ravel())\n",
        "  finalConvRes.append(out)\n",
        "  "
      ],
      "execution_count": 25,
      "outputs": []
    },
    {
      "cell_type": "code",
      "metadata": {
        "id": "ByktIPM77iJW"
      },
      "source": [
        "finalConvRes = np.array(finalConvRes)"
      ],
      "execution_count": 26,
      "outputs": []
    },
    {
      "cell_type": "code",
      "metadata": {
        "id": "_t0ZDQ9E7vGe"
      },
      "source": [
        "sigmoidConvRes = sigmoid(finalConvRes)"
      ],
      "execution_count": 27,
      "outputs": []
    },
    {
      "cell_type": "code",
      "metadata": {
        "id": "OAtgQufb8M0F",
        "outputId": "c5c42e1e-4a25-4a99-aa1f-f49ee4d886b3",
        "colab": {
          "base_uri": "https://localhost:8080/"
        }
      },
      "source": [
        "sigmoidConvRes.shape"
      ],
      "execution_count": 28,
      "outputs": [
        {
          "output_type": "execute_result",
          "data": {
            "text/plain": [
              "(200, 3, 576)"
            ]
          },
          "metadata": {},
          "execution_count": 28
        }
      ]
    },
    {
      "cell_type": "code",
      "metadata": {
        "id": "lhbRzOcx8gAW"
      },
      "source": [
        "finalSigmoidConvRes = sigmoidConvRes.reshape((sigmoidConvRes.shape[0],\n",
        "                                              sigmoidConvRes.shape[1]*sigmoidConvRes.shape[2])).T"
      ],
      "execution_count": 29,
      "outputs": []
    },
    {
      "cell_type": "code",
      "metadata": {
        "id": "CwQBYhKcFSW-"
      },
      "source": [
        "A = finalSigmoidConvRes"
      ],
      "execution_count": 39,
      "outputs": []
    },
    {
      "cell_type": "code",
      "metadata": {
        "id": "kAutqpkD864n",
        "outputId": "eb26f914-6db9-438f-e056-412b520e17f7",
        "colab": {
          "base_uri": "https://localhost:8080/"
        }
      },
      "source": [
        "finalSigmoidConvRes.shape"
      ],
      "execution_count": 30,
      "outputs": [
        {
          "output_type": "execute_result",
          "data": {
            "text/plain": [
              "(1728, 200)"
            ]
          },
          "metadata": {},
          "execution_count": 30
        }
      ]
    },
    {
      "cell_type": "code",
      "metadata": {
        "id": "XQSQgzLo9L-d"
      },
      "source": [
        "# Giving  finalSigmoidConvRes as input to neural network. \n",
        "# Let the depth of neural network be one , like simple linear regression model\n",
        "\n",
        "# Adding bias to input layer\n",
        "bias = np.ones((1,finalSigmoidConvRes.shape[1]))\n",
        "finalSigmoidConvRes = np.append(bias,finalSigmoidConvRes,axis=0).T"
      ],
      "execution_count": 31,
      "outputs": []
    },
    {
      "cell_type": "code",
      "metadata": {
        "id": "7NTLj1-e_mWa",
        "outputId": "df234def-4b1a-4cb3-b905-9181debea1ed",
        "colab": {
          "base_uri": "https://localhost:8080/"
        }
      },
      "source": [
        "finalSigmoidConvRes.shape"
      ],
      "execution_count": 32,
      "outputs": [
        {
          "output_type": "execute_result",
          "data": {
            "text/plain": [
              "(200, 1729)"
            ]
          },
          "metadata": {},
          "execution_count": 32
        }
      ]
    },
    {
      "cell_type": "code",
      "metadata": {
        "id": "Kz70SpfWa-rB"
      },
      "source": [
        "# Initializing weight matrix\n",
        "\n",
        "inputLayer,outputLayer = finalSigmoidConvRes.shape[1],1\n",
        "\n",
        "w = np.random.uniform(size=(inputLayer,outputLayer))"
      ],
      "execution_count": 33,
      "outputs": []
    },
    {
      "cell_type": "code",
      "metadata": {
        "id": "TVsxX44UBfqM",
        "outputId": "e354c763-cbd7-45bb-f822-60a68175c1bb",
        "colab": {
          "base_uri": "https://localhost:8080/"
        }
      },
      "source": [
        "w.shape"
      ],
      "execution_count": 34,
      "outputs": [
        {
          "output_type": "execute_result",
          "data": {
            "text/plain": [
              "(1729, 1)"
            ]
          },
          "metadata": {},
          "execution_count": 34
        }
      ]
    },
    {
      "cell_type": "code",
      "metadata": {
        "id": "Tyxbp7Qe-0dg"
      },
      "source": [
        "#output layer for all datasets\n",
        "Z2 = np.dot(finalSigmoidConvRes,w)\n",
        "output = sigmoid(Z2)"
      ],
      "execution_count": 36,
      "outputs": []
    },
    {
      "cell_type": "code",
      "metadata": {
        "id": "idZTVW6pCLtd"
      },
      "source": [
        "def forwardProgation():\n",
        "  return sigmoid(np.dot(finalSigmoidConvRes,w))"
      ],
      "execution_count": 37,
      "outputs": []
    },
    {
      "cell_type": "code",
      "metadata": {
        "id": "QMeigmuYFhep"
      },
      "source": [
        "# summary of outputs\n",
        "\n",
        "Z1 = finalConvRes\n",
        "A1 = finalSigmoidConvRes\n",
        "Z2 = np.dot(finalSigmoidConvRes,w)\n",
        "output = sigmoid(Z2)"
      ],
      "execution_count": 42,
      "outputs": []
    },
    {
      "cell_type": "markdown",
      "metadata": {
        "id": "4e3SXrl_DAfu"
      },
      "source": [
        "FORWARD PROPAGATION IS DONE, NOW WE MOVE TO PROPAGATION"
      ]
    },
    {
      "cell_type": "markdown",
      "metadata": {
        "id": "I4T9UQ5ZOvFu"
      },
      "source": [
        "PERFORMING BACKPROPAGATION TO ADJUST FILTER WEIGHTS"
      ]
    },
    {
      "cell_type": "code",
      "metadata": {
        "id": "scx9r7QvK4uL",
        "outputId": "63845177-a3f8-4c64-f394-15f70fb23a35",
        "colab": {
          "base_uri": "https://localhost:8080/"
        }
      },
      "source": [
        "y_train.shape,output.shape"
      ],
      "execution_count": 45,
      "outputs": [
        {
          "output_type": "execute_result",
          "data": {
            "text/plain": [
              "((1, 200), (200, 1))"
            ]
          },
          "metadata": {},
          "execution_count": 45
        }
      ]
    },
    {
      "cell_type": "code",
      "metadata": {
        "id": "iBQLOskjC-RY"
      },
      "source": [
        "# Error\n",
        "error = np.square(y_train.T-output)/2\n",
        "\n"
      ],
      "execution_count": 46,
      "outputs": []
    },
    {
      "cell_type": "code",
      "metadata": {
        "id": "1eq0dFN9K0KC",
        "outputId": "7188ea72-4dc1-4bbb-91e0-dc4d9cb12713",
        "colab": {
          "base_uri": "https://localhost:8080/"
        }
      },
      "source": [
        "error.shape"
      ],
      "execution_count": 47,
      "outputs": [
        {
          "output_type": "execute_result",
          "data": {
            "text/plain": [
              "(200, 1)"
            ]
          },
          "metadata": {},
          "execution_count": 47
        }
      ]
    },
    {
      "cell_type": "code",
      "metadata": {
        "id": "pXd5jbzzFKWV"
      },
      "source": [
        "# Error gradient w.r.t output\n",
        "error_wrt_output = -(y_train.T-output)\n"
      ],
      "execution_count": 50,
      "outputs": []
    },
    {
      "cell_type": "code",
      "metadata": {
        "id": "54AryKgnLFiL",
        "outputId": "242a1ec2-64ad-4917-fc4e-607e8bb7ada5",
        "colab": {
          "base_uri": "https://localhost:8080/"
        }
      },
      "source": [
        "error_wrt_output.shape"
      ],
      "execution_count": 51,
      "outputs": [
        {
          "output_type": "execute_result",
          "data": {
            "text/plain": [
              "(200, 1)"
            ]
          },
          "metadata": {},
          "execution_count": 51
        }
      ]
    },
    {
      "cell_type": "code",
      "metadata": {
        "id": "OiuEGqYGLNjK",
        "outputId": "0330823d-279f-407f-d34e-8a65a2d98d4b",
        "colab": {
          "base_uri": "https://localhost:8080/"
        }
      },
      "source": [
        "Z2.shape"
      ],
      "execution_count": 52,
      "outputs": [
        {
          "output_type": "execute_result",
          "data": {
            "text/plain": [
              "(200, 1)"
            ]
          },
          "metadata": {},
          "execution_count": 52
        }
      ]
    },
    {
      "cell_type": "code",
      "metadata": {
        "id": "5q7175xWLCzi"
      },
      "source": [
        "# output gradient w.r.t Z2\n",
        "output_wrt_z2 = output*(1-output)\n"
      ],
      "execution_count": 53,
      "outputs": []
    },
    {
      "cell_type": "code",
      "metadata": {
        "id": "U6bHJ-3lLZIG",
        "outputId": "192be0d9-83c0-49d3-a08a-84457a52d4de",
        "colab": {
          "base_uri": "https://localhost:8080/"
        }
      },
      "source": [
        "output_wrt_z2.shape"
      ],
      "execution_count": 56,
      "outputs": [
        {
          "output_type": "execute_result",
          "data": {
            "text/plain": [
              "(200, 1)"
            ]
          },
          "metadata": {},
          "execution_count": 56
        }
      ]
    },
    {
      "cell_type": "code",
      "metadata": {
        "id": "89ubqKaJLWOX"
      },
      "source": [
        "\n",
        "# Z2 gradient w.r.t A1\n",
        "z2_wrt_a1 = w\n"
      ],
      "execution_count": 58,
      "outputs": []
    },
    {
      "cell_type": "code",
      "metadata": {
        "id": "F7Ea-PVGLhQA",
        "outputId": "cac19f4b-d66b-45b4-e8d1-98fe16756ea8",
        "colab": {
          "base_uri": "https://localhost:8080/"
        }
      },
      "source": [
        "z2_wrt_a1.shape"
      ],
      "execution_count": 59,
      "outputs": [
        {
          "output_type": "execute_result",
          "data": {
            "text/plain": [
              "(1729, 1)"
            ]
          },
          "metadata": {},
          "execution_count": 59
        }
      ]
    },
    {
      "cell_type": "code",
      "metadata": {
        "id": "KILRY0VNLs4f",
        "outputId": "248aa962-6691-4baa-cfda-e25c1be756df",
        "colab": {
          "base_uri": "https://localhost:8080/"
        }
      },
      "source": [
        "Z1.shape,A1.shape"
      ],
      "execution_count": 61,
      "outputs": [
        {
          "output_type": "execute_result",
          "data": {
            "text/plain": [
              "((200, 3, 576), (200, 1729))"
            ]
          },
          "metadata": {},
          "execution_count": 61
        }
      ]
    },
    {
      "cell_type": "code",
      "metadata": {
        "id": "C7X9LSMHLfgD"
      },
      "source": [
        "a1_wrt_z1 = A1*(1-A1)"
      ],
      "execution_count": 62,
      "outputs": []
    },
    {
      "cell_type": "code",
      "metadata": {
        "id": "tfg_0D-iL_7a",
        "outputId": "918f3e8f-8fc4-4535-c52c-d05fbd407102",
        "colab": {
          "base_uri": "https://localhost:8080/"
        }
      },
      "source": [
        "a1_wrt_z1.shape"
      ],
      "execution_count": 63,
      "outputs": [
        {
          "output_type": "execute_result",
          "data": {
            "text/plain": [
              "(200, 1729)"
            ]
          },
          "metadata": {},
          "execution_count": 63
        }
      ]
    },
    {
      "cell_type": "code",
      "metadata": {
        "id": "qu8s5aYWL826"
      },
      "source": [
        "z1_wrt_f = X_train"
      ],
      "execution_count": 64,
      "outputs": []
    },
    {
      "cell_type": "code",
      "metadata": {
        "id": "Fo2uoCYTMCfI",
        "outputId": "4bfae011-0b3f-4cc5-9f3a-b62b11e302d9",
        "colab": {
          "base_uri": "https://localhost:8080/"
        }
      },
      "source": [
        "z1_wrt_f.shape"
      ],
      "execution_count": 65,
      "outputs": [
        {
          "output_type": "execute_result",
          "data": {
            "text/plain": [
              "(28, 28, 200)"
            ]
          },
          "metadata": {},
          "execution_count": 65
        }
      ]
    },
    {
      "cell_type": "code",
      "metadata": {
        "id": "-CYWlxFNMo12",
        "outputId": "265b900c-39be-4032-9328-a1cefa7eda6d",
        "colab": {
          "base_uri": "https://localhost:8080/"
        }
      },
      "source": [
        "f.shape"
      ],
      "execution_count": 66,
      "outputs": [
        {
          "output_type": "execute_result",
          "data": {
            "text/plain": [
              "(3, 3)"
            ]
          },
          "metadata": {},
          "execution_count": 66
        }
      ]
    },
    {
      "cell_type": "code",
      "metadata": {
        "id": "5YyvSyRlM2H2",
        "outputId": "daf41af2-b5e5-4aba-953e-65b1396e3c3e",
        "colab": {
          "base_uri": "https://localhost:8080/"
        }
      },
      "source": [
        "error_wrt_output.shape,output_wrt_z2.shape,z2_wrt_a1.shape,a1_wrt_z1.shape,z1_wrt_f.shape"
      ],
      "execution_count": 69,
      "outputs": [
        {
          "output_type": "execute_result",
          "data": {
            "text/plain": [
              "((200, 1), (200, 1), (1729, 1), (200, 1729), (28, 28, 200))"
            ]
          },
          "metadata": {},
          "execution_count": 69
        }
      ]
    },
    {
      "cell_type": "markdown",
      "metadata": {
        "id": "1vo-QpEQOauv"
      },
      "source": [
        "These is some confusion in back propagation hence it is not continued till it is cleared"
      ]
    },
    {
      "cell_type": "code",
      "metadata": {
        "id": "xcf1RkLMOZj8"
      },
      "source": [
        ""
      ],
      "execution_count": null,
      "outputs": []
    },
    {
      "cell_type": "code",
      "metadata": {
        "id": "Fm4GVggyMEJJ"
      },
      "source": [
        "# Gradient descent Algorithm\n",
        "# dE_df = f - (learning_rate)*(dE/df)"
      ],
      "execution_count": null,
      "outputs": []
    }
  ]
}